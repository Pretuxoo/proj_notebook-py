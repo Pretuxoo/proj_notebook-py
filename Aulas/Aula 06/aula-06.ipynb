{
  "metadata": {
    "language_info": {
      "codemirror_mode": {
        "name": "python",
        "version": 3
      },
      "file_extension": ".py",
      "mimetype": "text/x-python",
      "name": "python",
      "nbconvert_exporter": "python",
      "pygments_lexer": "ipython3",
      "version": "3.8"
    },
    "kernelspec": {
      "name": "python",
      "display_name": "Python (Pyodide)",
      "language": "python"
    }
  },
  "nbformat_minor": 4,
  "nbformat": 4,
  "cells": [
    {
      "cell_type": "markdown",
      "source": "01 - Crie um programa que crie um objeto e um construtor com nome pessoa.Adicione em uma lista com quatro pessoas:",
      "metadata": {}
    },
    {
      "cell_type": "code",
      "source": "class pessoa:\n    def __init__(self,nome,idade,cargo,salario):\n        self.nome = nome\n        self.idade = idade\n        self.cargo = cargo\n        self.salario = salario\ncadastro = []\n\ncadastro.append(pessoa(\"Samuel\",50,\"Psicologo\",\"R$ 10.000,00\"))\ncadastro.append(pessoa(\"João\",65,\"Auxiliar\",\"R$ 1.200,00\"))\ncadastro.append(pessoa(\"Carlos\",90,\"Aposentado\",\"R$ 2.000,00\"))\ncadastro.append(pessoa(\"Caio\",56,\"Comerciante de Narcoticos\",\"R$ 5.540,00\"))\n\ncadastro.sort(key=lambda x: x.nome)\n\nfor v in cadastro:\n    print(\"{:<10}{:<8}{:<30}{:<0}\".format(v.nome,v.idade,v.cargo,v.salario))\n",
      "metadata": {
        "trusted": true
      },
      "execution_count": 12,
      "outputs": [
        {
          "name": "stdout",
          "text": "Caio      56      Comerciante de Narcoticos     R$ 5.540,00\nCarlos    90      Aposentado                    R$ 2.000,00\nJoão      65      Auxiliar                      R$ 1.200,00\nSamuel    50      Psicologo                     R$ 10.000,00\n",
          "output_type": "stream"
        }
      ]
    },
    {
      "cell_type": "markdown",
      "source": "02 - Crie um programa com uma classe carro onde possua, modelo, marca, ano, placa.Adicione três carros:",
      "metadata": {}
    },
    {
      "cell_type": "code",
      "source": "class carro:\n    def __init__(self,modelo,marca,ano,placa):\n        self.modelo = modelo\n        self.marca = marca\n        self.ano = ano\n        self.placa = placa\n        \ncadastro = []\n\ncadastro.append(carro(\"Palio 2.0\",\"Fiat\",\"2015\",\"FRE2H30\"))\ncadastro.append(carro(\"Uno\",\"Fiat\",\"2012\",\"GRS2H21\"))\ncadastro.append(carro(\"X1\",\"BMW\",\"2020\",\"RSF4I43\"))\n\ncadastro.sort(key=lambda x: x.nome)\n\nfor v in cadastro:\n    print(\"{:<10}{:<10}{:<15}{:<0}\".format(v.modelo,v.marca,v.ano,v.placa))\n",
      "metadata": {
        "trusted": true
      },
      "execution_count": 13,
      "outputs": [
        {
          "ename": "<class 'AttributeError'>",
          "evalue": "'carro' object has no attribute 'nome'",
          "traceback": [
            "\u001b[0;31m---------------------------------------------------------------------------\u001b[0m",
            "\u001b[0;31mAttributeError\u001b[0m                            Traceback (most recent call last)",
            "Cell \u001b[0;32mIn [13], line 14\u001b[0m\n\u001b[1;32m     11\u001b[0m cadastro\u001b[38;5;241m.\u001b[39mappend(carro(\u001b[38;5;124m\"\u001b[39m\u001b[38;5;124mUno\u001b[39m\u001b[38;5;124m\"\u001b[39m,\u001b[38;5;124m\"\u001b[39m\u001b[38;5;124mFiat\u001b[39m\u001b[38;5;124m\"\u001b[39m,\u001b[38;5;124m\"\u001b[39m\u001b[38;5;124m2012\u001b[39m\u001b[38;5;124m\"\u001b[39m,\u001b[38;5;124m\"\u001b[39m\u001b[38;5;124mGRS2H21\u001b[39m\u001b[38;5;124m\"\u001b[39m))\n\u001b[1;32m     12\u001b[0m cadastro\u001b[38;5;241m.\u001b[39mappend(carro(\u001b[38;5;124m\"\u001b[39m\u001b[38;5;124mX1\u001b[39m\u001b[38;5;124m\"\u001b[39m,\u001b[38;5;124m\"\u001b[39m\u001b[38;5;124mBMW\u001b[39m\u001b[38;5;124m\"\u001b[39m,\u001b[38;5;124m\"\u001b[39m\u001b[38;5;124m2020\u001b[39m\u001b[38;5;124m\"\u001b[39m,\u001b[38;5;124m\"\u001b[39m\u001b[38;5;124mRSF4I43\u001b[39m\u001b[38;5;124m\"\u001b[39m))\n\u001b[0;32m---> 14\u001b[0m \u001b[43mcadastro\u001b[49m\u001b[38;5;241;43m.\u001b[39;49m\u001b[43msort\u001b[49m\u001b[43m(\u001b[49m\u001b[43mkey\u001b[49m\u001b[38;5;241;43m=\u001b[39;49m\u001b[38;5;28;43;01mlambda\u001b[39;49;00m\u001b[43m \u001b[49m\u001b[43mx\u001b[49m\u001b[43m:\u001b[49m\u001b[43m \u001b[49m\u001b[43mx\u001b[49m\u001b[38;5;241;43m.\u001b[39;49m\u001b[43mnome\u001b[49m\u001b[43m)\u001b[49m\n\u001b[1;32m     16\u001b[0m \u001b[38;5;28;01mfor\u001b[39;00m v \u001b[38;5;129;01min\u001b[39;00m cadastro:\n\u001b[1;32m     17\u001b[0m     \u001b[38;5;28mprint\u001b[39m(\u001b[38;5;124m\"\u001b[39m\u001b[38;5;132;01m{:<10}\u001b[39;00m\u001b[38;5;132;01m{:<10}\u001b[39;00m\u001b[38;5;132;01m{:<15}\u001b[39;00m\u001b[38;5;132;01m{:<0}\u001b[39;00m\u001b[38;5;124m\"\u001b[39m\u001b[38;5;241m.\u001b[39mformat(v\u001b[38;5;241m.\u001b[39mmodelo,v\u001b[38;5;241m.\u001b[39mmarca,v\u001b[38;5;241m.\u001b[39mano,v\u001b[38;5;241m.\u001b[39mplaca))\n",
            "Cell \u001b[0;32mIn [13], line 14\u001b[0m, in \u001b[0;36m<lambda>\u001b[0;34m(x)\u001b[0m\n\u001b[1;32m     11\u001b[0m cadastro\u001b[38;5;241m.\u001b[39mappend(carro(\u001b[38;5;124m\"\u001b[39m\u001b[38;5;124mUno\u001b[39m\u001b[38;5;124m\"\u001b[39m,\u001b[38;5;124m\"\u001b[39m\u001b[38;5;124mFiat\u001b[39m\u001b[38;5;124m\"\u001b[39m,\u001b[38;5;124m\"\u001b[39m\u001b[38;5;124m2012\u001b[39m\u001b[38;5;124m\"\u001b[39m,\u001b[38;5;124m\"\u001b[39m\u001b[38;5;124mGRS2H21\u001b[39m\u001b[38;5;124m\"\u001b[39m))\n\u001b[1;32m     12\u001b[0m cadastro\u001b[38;5;241m.\u001b[39mappend(carro(\u001b[38;5;124m\"\u001b[39m\u001b[38;5;124mX1\u001b[39m\u001b[38;5;124m\"\u001b[39m,\u001b[38;5;124m\"\u001b[39m\u001b[38;5;124mBMW\u001b[39m\u001b[38;5;124m\"\u001b[39m,\u001b[38;5;124m\"\u001b[39m\u001b[38;5;124m2020\u001b[39m\u001b[38;5;124m\"\u001b[39m,\u001b[38;5;124m\"\u001b[39m\u001b[38;5;124mRSF4I43\u001b[39m\u001b[38;5;124m\"\u001b[39m))\n\u001b[0;32m---> 14\u001b[0m cadastro\u001b[38;5;241m.\u001b[39msort(key\u001b[38;5;241m=\u001b[39m\u001b[38;5;28;01mlambda\u001b[39;00m x: \u001b[43mx\u001b[49m\u001b[38;5;241;43m.\u001b[39;49m\u001b[43mnome\u001b[49m)\n\u001b[1;32m     16\u001b[0m \u001b[38;5;28;01mfor\u001b[39;00m v \u001b[38;5;129;01min\u001b[39;00m cadastro:\n\u001b[1;32m     17\u001b[0m     \u001b[38;5;28mprint\u001b[39m(\u001b[38;5;124m\"\u001b[39m\u001b[38;5;132;01m{:<10}\u001b[39;00m\u001b[38;5;132;01m{:<10}\u001b[39;00m\u001b[38;5;132;01m{:<15}\u001b[39;00m\u001b[38;5;132;01m{:<0}\u001b[39;00m\u001b[38;5;124m\"\u001b[39m\u001b[38;5;241m.\u001b[39mformat(v\u001b[38;5;241m.\u001b[39mmodelo,v\u001b[38;5;241m.\u001b[39mmarca,v\u001b[38;5;241m.\u001b[39mano,v\u001b[38;5;241m.\u001b[39mplaca))\n",
            "\u001b[0;31mAttributeError\u001b[0m: 'carro' object has no attribute 'nome'"
          ],
          "output_type": "error"
        }
      ]
    },
    {
      "cell_type": "code",
      "source": "",
      "metadata": {},
      "execution_count": null,
      "outputs": []
    }
  ]
}