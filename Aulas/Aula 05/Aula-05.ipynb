{
  "metadata": {
    "language_info": {
      "codemirror_mode": {
        "name": "python",
        "version": 3
      },
      "file_extension": ".py",
      "mimetype": "text/x-python",
      "name": "python",
      "nbconvert_exporter": "python",
      "pygments_lexer": "ipython3",
      "version": "3.8"
    },
    "kernelspec": {
      "name": "python",
      "display_name": "Python (Pyodide)",
      "language": "python"
    }
  },
  "nbformat_minor": 4,
  "nbformat": 4,
  "cells": [
    {
      "cell_type": "markdown",
      "source": "02 - Crie um programa que mostre três endereços,três numeros,três bairros e três cidades:",
      "metadata": {}
    },
    {
      "cell_type": "code",
      "source": "nome=[\n    \"Carlos\",\n    \"Julio\",\n    \"Samuel\"\n    ]\nnumero=[\n    \"53\",\n    \"663\",\n    \"47\"\n    ]\nendereco=[\n    \"Salto/SP    br.São gonsalvez\",\n    \"Pindamonhangaba/SP    br.20 de Novembro\",\n    \"Sorocaba/SP    br.Jacinto Dores\"\n    ]\nprint(\"|{:<12}|{:<12}|{:<0}\".format(\"nome\",\"numero\",\"endereco\"))\nprint(\"|------------+------------+---------------------------------------->\")\nx = 0\nwhile(x<=2):\n    print(\"|{:<12}|{:<12}|{:<0}\".format(nome[x],numero[x],endereco[x]))\n    x += 1",
      "metadata": {
        "trusted": true
      },
      "execution_count": 29,
      "outputs": [
        {
          "name": "stdout",
          "text": "|nome        |numero      |endereco\n|------------+------------+---------------------------------------->\n|Carlos      |53          |Salto/SP    br.São gonsalvez\n|Julio       |663         |Pindamonhangaba/SP    br.20 de Novembro\n|Samuel      |47          |Sorocaba/SP    br.Jacinto Dores\n",
          "output_type": "stream"
        }
      ]
    },
    {
      "cell_type": "code",
      "source": "",
      "metadata": {},
      "execution_count": null,
      "outputs": []
    }
  ]
}